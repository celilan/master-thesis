{
 "cells": [
  {
   "cell_type": "code",
   "execution_count": null,
   "metadata": {},
   "outputs": [],
   "source": [
    "import re\n",
    "import pandas as pd"
   ]
  },
  {
   "cell_type": "code",
   "execution_count": null,
   "metadata": {},
   "outputs": [],
   "source": [
    "# read data\n",
    "df = pd.read_csv('df_combined.csv')\n",
    "#pd.set_option('display.max_colwidth', None)\n",
    "df['title'].head()"
   ]
  },
  {
   "cell_type": "code",
   "execution_count": null,
   "metadata": {},
   "outputs": [],
   "source": [
    "#df[['content']].head(1)"
   ]
  },
  {
   "cell_type": "code",
   "execution_count": null,
   "metadata": {},
   "outputs": [],
   "source": [
    "df = df.fillna('missing')\n",
    "df.head()"
   ]
  },
  {
   "cell_type": "code",
   "execution_count": null,
   "metadata": {},
   "outputs": [],
   "source": [
    "def clean_text(text):\n",
    "    '''Cleans content column'''\n",
    "\n",
    "    # remove journal homepage URLs\n",
    "    text = re.sub(r'https?://\\S+', '', text) \n",
    "\n",
    "    # remove ISSN numbers\n",
    "    text = re.sub(r'ISSN:\\s*\\(.*?\\)', '', text)\n",
    "\n",
    "    # remove copyright/license info\n",
    "    text = re.sub(r'©\\s*\\d{4}.*?license.*', '', text, flags=re.IGNORECASE)\n",
    "\n",
    "    # remove unwanted \"Downloaded from\" lines or publication data\n",
    "    text = re.sub(r'Downloaded from .+? on \\w+ \\d{2}, \\d{4}', '', text)\n",
    "\n",
    "    # remove any reference to URLs or links in text that aren’t essential\n",
    "    text = re.sub(r'\\bwww\\.\\S+', '', text) \n",
    "\n",
    "    # remove unwanted citations and references (vurder å fjerne dette)\n",
    "    text = re.sub(r'REFERENCES AND NOTES.*', '', text, flags=re.DOTALL)  # remove references and notes section\n",
    "    text = re.sub(r'\\(\\d+\\)', '', text)  # remove inline citations \n",
    "    text = re.sub(r'\\*\\*P.*?Wilcoxon.*?\\n', '', text)  # remove statistical results\n",
    "\n",
    "    # normalize spaces and remove unwanted newlines\n",
    "    text = re.sub(r'\\s+', ' ', text).strip()\n",
    "\n",
    "    return text"
   ]
  },
  {
   "cell_type": "code",
   "execution_count": null,
   "metadata": {},
   "outputs": [],
   "source": [
    "# apply cleaning\n",
    "df[\"cleaned_content\"] = df[\"content\"].apply(clean_text)"
   ]
  },
  {
   "cell_type": "code",
   "execution_count": null,
   "metadata": {},
   "outputs": [],
   "source": [
    "#pd.set_option('display.max_colwidth', None)\n",
    "df[['cleaned_content']].head()"
   ]
  },
  {
   "cell_type": "code",
   "execution_count": null,
   "metadata": {},
   "outputs": [],
   "source": [
    "# save cleaned df to csv file\n",
    "df.to_csv('df_cleaned.csv', index=False)"
   ]
  }
 ],
 "metadata": {
  "kernelspec": {
   "display_name": "venv",
   "language": "python",
   "name": "python3"
  },
  "language_info": {
   "codemirror_mode": {
    "name": "ipython",
    "version": 3
   },
   "file_extension": ".py",
   "mimetype": "text/x-python",
   "name": "python",
   "nbconvert_exporter": "python",
   "pygments_lexer": "ipython3",
   "version": "3.13.1"
  }
 },
 "nbformat": 4,
 "nbformat_minor": 2
}
