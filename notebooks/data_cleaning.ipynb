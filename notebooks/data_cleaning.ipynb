{
 "cells": [
  {
   "cell_type": "code",
   "execution_count": null,
   "metadata": {},
   "outputs": [],
   "source": [
    "import re\n",
    "import pandas as pd"
   ]
  },
  {
   "cell_type": "code",
   "execution_count": 2,
   "metadata": {},
   "outputs": [
    {
     "data": {
      "text/plain": [
       "0    Contrastive autoencoder for anomaly detection ...\n",
       "1    Detection of abnormality in wireless capsule e...\n",
       "2      Single image dehazing using a new color channel\n",
       "3    Estimating Tukey depth using incremental quant...\n",
       "4    Advanced Passive Operating System Fingerprinti...\n",
       "Name: title, dtype: object"
      ]
     },
     "execution_count": 2,
     "metadata": {},
     "output_type": "execute_result"
    }
   ],
   "source": [
    "# read data\n",
    "df = pd.read_csv('df_combined.csv')\n",
    "#pd.set_option('display.max_colwidth', None)\n",
    "df['title'].head()"
   ]
  },
  {
   "cell_type": "code",
   "execution_count": 3,
   "metadata": {},
   "outputs": [],
   "source": [
    "#df[['content']].head(1)"
   ]
  },
  {
   "cell_type": "code",
   "execution_count": 4,
   "metadata": {},
   "outputs": [
    {
     "data": {
      "text/html": [
       "<div>\n",
       "<style scoped>\n",
       "    .dataframe tbody tr th:only-of-type {\n",
       "        vertical-align: middle;\n",
       "    }\n",
       "\n",
       "    .dataframe tbody tr th {\n",
       "        vertical-align: top;\n",
       "    }\n",
       "\n",
       "    .dataframe thead th {\n",
       "        text-align: right;\n",
       "    }\n",
       "</style>\n",
       "<table border=\"1\" class=\"dataframe\">\n",
       "  <thead>\n",
       "    <tr style=\"text-align: right;\">\n",
       "      <th></th>\n",
       "      <th>title</th>\n",
       "      <th>authors</th>\n",
       "      <th>year_published</th>\n",
       "      <th>number</th>\n",
       "      <th>volume</th>\n",
       "      <th>journal</th>\n",
       "      <th>type</th>\n",
       "      <th>content</th>\n",
       "      <th>doi</th>\n",
       "      <th>file</th>\n",
       "    </tr>\n",
       "  </thead>\n",
       "  <tbody>\n",
       "    <tr>\n",
       "      <th>0</th>\n",
       "      <td>Contrastive autoencoder for anomaly detection ...</td>\n",
       "      <td>Hao Zhou and Ke Yu and Xuan Zhang and Guanlin ...</td>\n",
       "      <td>2022</td>\n",
       "      <td>NaN</td>\n",
       "      <td>610</td>\n",
       "      <td>Information Sciences</td>\n",
       "      <td>article</td>\n",
       "      <td>Contrastive autoencoder for anomaly detection ...</td>\n",
       "      <td>https://doi.org/10.1016/j.ins.2022.07.179</td>\n",
       "      <td>doc16</td>\n",
       "    </tr>\n",
       "    <tr>\n",
       "      <th>1</th>\n",
       "      <td>Detection of abnormality in wireless capsule e...</td>\n",
       "      <td>Samir Jain and Ayan Seal and Aparajita Ojha an...</td>\n",
       "      <td>2020</td>\n",
       "      <td>NaN</td>\n",
       "      <td>127</td>\n",
       "      <td>Computers in Biology and Medicine</td>\n",
       "      <td>article</td>\n",
       "      <td>Computers in Biology and Medicine 127 (2020) 1...</td>\n",
       "      <td>https://doi.org/10.1016/j.compbiomed.2020.104094</td>\n",
       "      <td>doc17</td>\n",
       "    </tr>\n",
       "    <tr>\n",
       "      <th>2</th>\n",
       "      <td>Single image dehazing using a new color channel</td>\n",
       "      <td>Geet Sahu and Ayan Seal and Ondrej Krejcar and...</td>\n",
       "      <td>2021</td>\n",
       "      <td>NaN</td>\n",
       "      <td>74</td>\n",
       "      <td>Journal of Visual Communication and Image Repr...</td>\n",
       "      <td>article</td>\n",
       "      <td>J. Vis. Commun. Image R. 74 (2021) 103008\\nAva...</td>\n",
       "      <td>https://doi.org/10.1016/j.jvcir.2020.103008</td>\n",
       "      <td>doc15</td>\n",
       "    </tr>\n",
       "    <tr>\n",
       "      <th>3</th>\n",
       "      <td>Estimating Tukey depth using incremental quant...</td>\n",
       "      <td>Hugo L. Hammer and Anis Yazidi and Håvard Rue</td>\n",
       "      <td>2022</td>\n",
       "      <td>NaN</td>\n",
       "      <td>122</td>\n",
       "      <td>Pattern Recognition</td>\n",
       "      <td>article</td>\n",
       "      <td>Pattern Recognition 122 (2022) 108339 \\nConten...</td>\n",
       "      <td>https://doi.org/10.1016/j.patcog.2021.108339</td>\n",
       "      <td>doc29</td>\n",
       "    </tr>\n",
       "    <tr>\n",
       "      <th>4</th>\n",
       "      <td>Advanced Passive Operating System Fingerprinti...</td>\n",
       "      <td>Hagos, Desta Haileselassie and Løland, Martin ...</td>\n",
       "      <td>2020</td>\n",
       "      <td>NaN</td>\n",
       "      <td>NaN</td>\n",
       "      <td>NaN</td>\n",
       "      <td>inproceedings</td>\n",
       "      <td>Advanced Passive Operating System Fingerprinti...</td>\n",
       "      <td>10.1109/ICCCN49398.2020.9209694</td>\n",
       "      <td>doc28</td>\n",
       "    </tr>\n",
       "  </tbody>\n",
       "</table>\n",
       "</div>"
      ],
      "text/plain": [
       "                                               title  \\\n",
       "0  Contrastive autoencoder for anomaly detection ...   \n",
       "1  Detection of abnormality in wireless capsule e...   \n",
       "2    Single image dehazing using a new color channel   \n",
       "3  Estimating Tukey depth using incremental quant...   \n",
       "4  Advanced Passive Operating System Fingerprinti...   \n",
       "\n",
       "                                             authors  year_published  number  \\\n",
       "0  Hao Zhou and Ke Yu and Xuan Zhang and Guanlin ...            2022     NaN   \n",
       "1  Samir Jain and Ayan Seal and Aparajita Ojha an...            2020     NaN   \n",
       "2  Geet Sahu and Ayan Seal and Ondrej Krejcar and...            2021     NaN   \n",
       "3      Hugo L. Hammer and Anis Yazidi and Håvard Rue            2022     NaN   \n",
       "4  Hagos, Desta Haileselassie and Løland, Martin ...            2020     NaN   \n",
       "\n",
       "  volume                                            journal           type  \\\n",
       "0    610                               Information Sciences        article   \n",
       "1    127                  Computers in Biology and Medicine        article   \n",
       "2     74  Journal of Visual Communication and Image Repr...        article   \n",
       "3    122                                Pattern Recognition        article   \n",
       "4    NaN                                                NaN  inproceedings   \n",
       "\n",
       "                                             content  \\\n",
       "0  Contrastive autoencoder for anomaly detection ...   \n",
       "1  Computers in Biology and Medicine 127 (2020) 1...   \n",
       "2  J. Vis. Commun. Image R. 74 (2021) 103008\\nAva...   \n",
       "3  Pattern Recognition 122 (2022) 108339 \\nConten...   \n",
       "4  Advanced Passive Operating System Fingerprinti...   \n",
       "\n",
       "                                                doi   file  \n",
       "0         https://doi.org/10.1016/j.ins.2022.07.179  doc16  \n",
       "1  https://doi.org/10.1016/j.compbiomed.2020.104094  doc17  \n",
       "2       https://doi.org/10.1016/j.jvcir.2020.103008  doc15  \n",
       "3      https://doi.org/10.1016/j.patcog.2021.108339  doc29  \n",
       "4                   10.1109/ICCCN49398.2020.9209694  doc28  "
      ]
     },
     "execution_count": 4,
     "metadata": {},
     "output_type": "execute_result"
    }
   ],
   "source": [
    "df.fillna('missing')\n",
    "df.head()"
   ]
  },
  {
   "cell_type": "code",
   "execution_count": 5,
   "metadata": {},
   "outputs": [],
   "source": [
    "def clean_text(text):\n",
    "    '''Cleans content column'''\n",
    "\n",
    "    # remove journal homepage URLs\n",
    "    text = re.sub(r'https?://\\S+', '', text) \n",
    "\n",
    "    # remove ISSN numbers\n",
    "    text = re.sub(r'ISSN:\\s*\\(.*?\\)', '', text)\n",
    "\n",
    "    # remove copyright/license info\n",
    "    text = re.sub(r'©\\s*\\d{4}.*?license.*', '', text, flags=re.IGNORECASE)\n",
    "\n",
    "    # remove unwanted \"Downloaded from\" lines or publication data\n",
    "    text = re.sub(r'Downloaded from .+? on \\w+ \\d{2}, \\d{4}', '', text)\n",
    "\n",
    "    # remove any reference to URLs or links in text that aren’t essential\n",
    "    text = re.sub(r'\\bwww\\.\\S+', '', text) \n",
    "\n",
    "    # normalize spaces and remove unwanted newlines\n",
    "    text = re.sub(r'\\s+', ' ', text).strip()\n",
    "\n",
    "    return text"
   ]
  },
  {
   "cell_type": "code",
   "execution_count": 6,
   "metadata": {},
   "outputs": [],
   "source": [
    "# apply cleaning\n",
    "df[\"cleaned_content\"] = df[\"content\"].apply(clean_text)"
   ]
  },
  {
   "cell_type": "code",
   "execution_count": 7,
   "metadata": {},
   "outputs": [
    {
     "data": {
      "text/html": [
       "<div>\n",
       "<style scoped>\n",
       "    .dataframe tbody tr th:only-of-type {\n",
       "        vertical-align: middle;\n",
       "    }\n",
       "\n",
       "    .dataframe tbody tr th {\n",
       "        vertical-align: top;\n",
       "    }\n",
       "\n",
       "    .dataframe thead th {\n",
       "        text-align: right;\n",
       "    }\n",
       "</style>\n",
       "<table border=\"1\" class=\"dataframe\">\n",
       "  <thead>\n",
       "    <tr style=\"text-align: right;\">\n",
       "      <th></th>\n",
       "      <th>cleaned_content</th>\n",
       "    </tr>\n",
       "  </thead>\n",
       "  <tbody>\n",
       "    <tr>\n",
       "      <th>0</th>\n",
       "      <td>Contrastive autoencoder for anomaly detection ...</td>\n",
       "    </tr>\n",
       "    <tr>\n",
       "      <th>1</th>\n",
       "      <td>Computers in Biology and Medicine 127 (2020) 1...</td>\n",
       "    </tr>\n",
       "    <tr>\n",
       "      <th>2</th>\n",
       "      <td>J. Vis. Commun. Image R. 74 (2021) 103008 Avai...</td>\n",
       "    </tr>\n",
       "    <tr>\n",
       "      <th>3</th>\n",
       "      <td>Pattern Recognition 122 (2022) 108339 Contents...</td>\n",
       "    </tr>\n",
       "    <tr>\n",
       "      <th>4</th>\n",
       "      <td>Advanced Passive Operating System Fingerprinti...</td>\n",
       "    </tr>\n",
       "  </tbody>\n",
       "</table>\n",
       "</div>"
      ],
      "text/plain": [
       "                                     cleaned_content\n",
       "0  Contrastive autoencoder for anomaly detection ...\n",
       "1  Computers in Biology and Medicine 127 (2020) 1...\n",
       "2  J. Vis. Commun. Image R. 74 (2021) 103008 Avai...\n",
       "3  Pattern Recognition 122 (2022) 108339 Contents...\n",
       "4  Advanced Passive Operating System Fingerprinti..."
      ]
     },
     "execution_count": 7,
     "metadata": {},
     "output_type": "execute_result"
    }
   ],
   "source": [
    "#pd.set_option('display.max_colwidth', None)\n",
    "df[['cleaned_content']].head()"
   ]
  },
  {
   "cell_type": "code",
   "execution_count": 8,
   "metadata": {},
   "outputs": [],
   "source": [
    "# save cleaned df to csv file\n",
    "df.to_csv('df_cleaned.csv', index=False)"
   ]
  }
 ],
 "metadata": {
  "kernelspec": {
   "display_name": "venv",
   "language": "python",
   "name": "python3"
  },
  "language_info": {
   "codemirror_mode": {
    "name": "ipython",
    "version": 3
   },
   "file_extension": ".py",
   "mimetype": "text/x-python",
   "name": "python",
   "nbconvert_exporter": "python",
   "pygments_lexer": "ipython3",
   "version": "3.13.1"
  }
 },
 "nbformat": 4,
 "nbformat_minor": 2
}
