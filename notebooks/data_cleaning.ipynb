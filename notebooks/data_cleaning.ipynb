{
 "cells": [
  {
   "cell_type": "code",
   "execution_count": null,
   "metadata": {},
   "outputs": [],
   "source": [
    "import pandas as pd\n",
    "import re"
   ]
  },
  {
   "cell_type": "code",
   "execution_count": null,
   "metadata": {},
   "outputs": [],
   "source": [
    "# read data\n",
    "df = pd.read_csv('df_combined.csv')\n",
    "df.head()"
   ]
  },
  {
   "cell_type": "code",
   "execution_count": null,
   "metadata": {},
   "outputs": [],
   "source": [
    "df[['content']].head(8)"
   ]
  },
  {
   "cell_type": "code",
   "execution_count": null,
   "metadata": {},
   "outputs": [],
   "source": [
    "df.fillna('missing')\n",
    "df.head()"
   ]
  },
  {
   "cell_type": "code",
   "execution_count": null,
   "metadata": {},
   "outputs": [],
   "source": [
    "def clean_text(text):\n",
    "    '''Cleans content column'''\n",
    "\n",
    "    # remove journal homepage URLs\n",
    "    text = re.sub(r'https?://\\S+', '', text)\n",
    "\n",
    "    # remove ISSN numbers\n",
    "    text = re.sub(r'ISSN:\\s*\\(.*?\\)', '', text)\n",
    "\n",
    "    # remove copyright/license info (e.g., CC BY-NC-ND, © info)\n",
    "    text = re.sub(r'©\\s*\\d{4}.*?license.*', '', text, flags=re.IGNORECASE)\n",
    "\n",
    "    # fix common OCR errors\n",
    "    text = text.replace(\"ﬆ\", \"st\").replace(\"deﬁning\", \"defining\").replace(\"journaliﬆs\", \"journalists\")\n",
    "    text = text.replace(\"con- tained\", \"contained\").replace(\"vol- ume\", \"volume\")  # More examples\n",
    "    \n",
    "    # remove unwanted \"Downloaded from\" lines or publication data\n",
    "    text = re.sub(r'Downloaded from .+? on \\w+ \\d{2}, \\d{4}', '', text)\n",
    "\n",
    "    # normalize spaces and remove unwanted newlines\n",
    "    text = re.sub(r'\\s+', ' ', text).strip()\n",
    "\n",
    "    return text"
   ]
  },
  {
   "cell_type": "code",
   "execution_count": null,
   "metadata": {},
   "outputs": [],
   "source": [
    "# apply cleaning\n",
    "df[\"cleaned_content\"] = df[\"content\"].apply(clean_text)"
   ]
  },
  {
   "cell_type": "code",
   "execution_count": null,
   "metadata": {},
   "outputs": [],
   "source": [
    "#pd.set_option('display.max_colwidth', None)\n",
    "df[['cleaned_content']].head(8)"
   ]
  },
  {
   "cell_type": "code",
   "execution_count": null,
   "metadata": {},
   "outputs": [],
   "source": [
    "# save cleaned df to csv file\n",
    "df.to_csv('df_cleaned.csv', index=False)"
   ]
  }
 ],
 "metadata": {
  "kernelspec": {
   "display_name": "venv",
   "language": "python",
   "name": "python3"
  },
  "language_info": {
   "codemirror_mode": {
    "name": "ipython",
    "version": 3
   },
   "file_extension": ".py",
   "mimetype": "text/x-python",
   "name": "python",
   "nbconvert_exporter": "python",
   "pygments_lexer": "ipython3",
   "version": "3.13.1"
  }
 },
 "nbformat": 4,
 "nbformat_minor": 2
}
